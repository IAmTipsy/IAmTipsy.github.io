{
 "cells": [
  {
   "cell_type": "markdown",
   "metadata": {},
   "source": [
    "# 1. Motivation"
   ]
  },
  {
   "cell_type": "markdown",
   "metadata": {},
   "source": [
    "\t\n",
    "    o What is your dataset?\n",
    "\n",
    "\n",
    "    This project focuses on analyzing traffic data from different cities in Denmark. More specifically we will look into where the police observes the speed of cars. In Denmark there is an app called 'Fartkontrol', in this app you can get information about where the police are observing cars. This information is given by other users of the app; when a user sees a speed control they type it in the app, indicating where they have seen it and at what time. By doing this users can warn other users on where they should be more aware of their driving speed. \n",
    "    This app is related to our project and we will use it to get inspiration to develop our project. The way we will differ from the app is that we will try to predict where future speed control might happen, and we will give a better overview of where the police are observing and in which different cities. \n",
    "\n",
    "\n",
    "\n",
    "    o Why did you choose this/these particular dataset(s)?\n",
    "\n",
    "\n",
    "    We will use a dataset from 'Fartkontrol' to predict where the police might be. This means that our dataset will contain information about when the users of 'Fartkontrol' have seen the police controlling speed of cars and where they have seen them. This information will consists of dates and times of the police's observations and in which areas they are observing. We will gather information from the last 6 months. \n",
    "    \n",
    "    Potentially, the analysis of the data will show if there is a patteren for when the police are observing. The analysis might show that the police have a tendency of being in the same areas on the same day and time, and it might help to understand whether the police control is random or not. Concretely, this project aims to detect any pattern in the police's work concerned speed controls, and if this work follows any rules or guidelines.\n",
    "\n",
    "\n",
    "\n",
    "    o What was your goal for the end user's experience?\n",
    "\n",
    "\n",
    "    The purpose for analyzing these data is that our end-user, who are car drivers, should get a warning for where speed control are, so they can avoid getting a speeding ticket and stay below the speed limit. By using our application the users will know where speed control typically occurs. This means that they are not depended on other users input. There might be a road where people have not registered a speed control yet, but through our application they will still get a warning that a speed control is likely to happen in the certain road.   "
   ]
  },
  {
   "cell_type": "markdown",
   "metadata": {},
   "source": [
    "# 2. Basic stats"
   ]
  },
  {
   "cell_type": "markdown",
   "metadata": {},
   "source": [
    "\n",
    "\n",
    "    o Write about your choices in data cleaning and preprocessing\n",
    "    \n",
    "    As mentioned earlier our data set will consist of traffic information from the past 6 months. This means that we have speed control information from December 2015 to May 2016. The data we are working with can be dividded into two categories:\n",
    "    \n",
    "        1) city area\n",
    "        2) week days\n",
    "    \n",
    "    The reason for divding the data into these categories is because we are interested in looking at where and when the police are observing the speed of cars. \n",
    "    This means the way we are cleaning our data will get post numbers and the dates of where the police are controlling. \n",
    "    In order to do so we will use a threshold that checks the control speed has been confirmed by a certain amount of users from 'Fartkontrol'. If an area has been confirmed by more than 15 times we will accept that as an area where the police checks speed. \n",
    "\n",
    "\n",
    "    o Write a short section that discusses the dataset stats (here you can recycle the work you did for Project Assignment A)\n",
    "    \n",
    "        When the data was cleaned and we got an overview of the data, it was seen that it would be possible to work with all observed speed controls in Denmark, instead of just looking at the traffic data in Copenhagen, which was the original idea of the project. It was seen that by typing in a post number we were able to see where more than 15 users have seen a speed control. \n",
    "    Despite this, it was also seen that some areas are more observed by the police and that some areas are observed more than once in a week. \n",
    "    "
   ]
  },
  {
   "cell_type": "markdown",
   "metadata": {},
   "source": [
    "\n",
    "    \n",
    "    "
   ]
  },
  {
   "cell_type": "markdown",
   "metadata": {},
   "source": [
    "# 3. Theory"
   ]
  },
  {
   "cell_type": "markdown",
   "metadata": {},
   "source": [
    "    o Describe which machine learning tools you use and why the tools you've chosen are right for the problem you're solving. & Talk about your model selection. \n",
    "\n",
    "  \n",
    "    We used a Decision Tree for data mining. This proved to be the most efficient and accurate model in terms of predicting speed controls. However, at first a Logistic Regression was tried out in the initial handleling of the topic. However, outputs of 0's nor 1's are not desired when working with probability percentage. In percentage, obviously, there is no clear 'yes' or 'no' identification, and therefore use of this model did not work according to our intension. Instead the results were 'yes/'no' corresponding to 'Yes, there will be a speed control' or 'No, there will not be a speed control', but this would not show the correct picture, and to some extend be directly wrong.\n",
    "    \n",
    "    To properly and correctly use Logistic Regression, or Multiple Regression, we would need a problem solvable with a 'Yes'/'No' answer. But as it turned out this was rather difficult to find with the data we had. For instance, for the end-user to type in his postal code and be shown whether or not a speed controls would occur in his city. In order to do so, more data would be necessary for an accecptable accuracy. As for now, one might consider Neural Networks, however the group is currently meeting limitations concerned the time frame set for this project.\n",
    "    \n",
    "    Then it was decided to use a Decision Tree model. A Decision Tree works as follows: \n",
    "    \n",
    "    \"A tree structure to represent a number of possible decision paths and an outcome for each path.\" [1]\n",
    "    \n",
    "    This model would give the desired probability percentages as wanted, and thereto the predictions would be transparent. A Decision Tree consists of decision nodes, whereto the 'answer' will lead the given point on to the next node, and then at the end, arive at the final answer. The last part categorize the given point.   \n",
    "\n",
    " \n",
    "    o Explain the model performance. How did you measure it? Are your results what you expected? \n",
    "    \n",
    "    Once using the Decision Tree, the model outputs were as expected and considered valid. However, the group has not been able to definetely validate the results through a comparison to other relevant data. Obviously, this could validate the results, the predictions, however still demanding relevant and reliable data not uptainable.   \n",
    "    "
   ]
  },
  {
   "cell_type": "markdown",
   "metadata": {
    "collapsed": true
   },
   "source": [
    "# 4. Visualizations"
   ]
  },
  {
   "cell_type": "markdown",
   "metadata": {},
   "source": [
    "    o Explain the visualizations you've chosen.\n",
    "    \n",
    "    A heatmap was chosen in order to show in which area the speed control occurs. This will help in giving an overview to the end-users of which streets are being observed the most. These areas are marked with red in the map. At the same time the users can navigate through the map, as so they can zoom into the areas they are interested in. \n",
    "    \n",
    "    Thereto, a pie chart has also been chosen in order to show the activity of the police. The pie chart gives an overview of how the police are distrubuted and when they are controlling speed controls the most.\n",
    "    \n",
    "    Lastly, a bar diagram visualizing the percentage possibility for speed controls according to week day. Here, the user can choose a desired postal code.\n",
    "    \n",
    "    \n",
    "    o Why are they right for the story you want to tell?\n",
    "    \n",
    "    As so speed controls are highly related to geography, a heat map is the obvious choice. The map is very detailed and markings very precise. This definetely tell the story the group aimed at. \n",
    "    The pie chart clearly states that working days are the most observed. Thereto, the user will know that weekends are less observed, and therefore he should be most careful during the weekend, but he might act more relaxed during the weekend. \n",
    "    However, if the user often depart from a specific location, he can know, through the bar chart, which days are the most risky ones. This also clearly show the user what he wants to know."
   ]
  },
  {
   "cell_type": "markdown",
   "metadata": {},
   "source": [
    "# 5. Discussion"
   ]
  },
  {
   "cell_type": "markdown",
   "metadata": {},
   "source": [
    "    o What went well?\n",
    "    \n",
    "    Through machine learning it has been possible to gather information about when and where the police are obser-\n",
    "    ving the speed of cars. Despite this it has also been possible to give our end-users an overview of where the police are controlling speed, which has been done by implementing a heatmap. At the same time it has also been possible to predict where future speed controls might happen.    \n",
    "\n",
    "\n",
    "    o What is still missing? What could be improved? why?\n",
    "    \n",
    "    We are stille missing to evaluate how accurate the predictions are. We measure a percentage of how likely it is a speed control will occur, and this means there is not a clear yes/no chance of measuring how accurate the speed control predictions are. Instead, one would have to set a percentage limit for when a prediction is very likely to occur versus almost not likely to occur, and from those settings, determine how accurate the predictions are. A suggested limit could be 75 % meaning any percentage above this limit would be classified as 'very likely' for a speed control to occur. "
   ]
  },
  {
   "cell_type": "markdown",
   "metadata": {},
   "source": [
    "# References"
   ]
  },
  {
   "cell_type": "markdown",
   "metadata": {},
   "source": [
    "    [1] Joel Grus. (2015). Data Science from Scratch: First Principles with Python. O'Reilly. ISBN\n",
    "  "
   ]
  }
 ],
 "metadata": {
  "kernelspec": {
   "display_name": "Python 3",
   "language": "python",
   "name": "python3"
  },
  "language_info": {
   "codemirror_mode": {
    "name": "ipython",
    "version": 3
   },
   "file_extension": ".py",
   "mimetype": "text/x-python",
   "name": "python",
   "nbconvert_exporter": "python",
   "pygments_lexer": "ipython3",
   "version": "3.5.1"
  }
 },
 "nbformat": 4,
 "nbformat_minor": 0
}
